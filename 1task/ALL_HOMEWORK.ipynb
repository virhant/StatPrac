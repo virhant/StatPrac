{
 "cells": [
  {
   "cell_type": "markdown",
   "id": "4b13f6d9-3f76-43d2-b562-f1c27fd1fea3",
   "metadata": {},
   "source": [
    "# Задача 1"
   ]
  },
  {
   "cell_type": "markdown",
   "id": "e5816076-4b1f-48c2-8051-94e28a93b8d0",
   "metadata": {},
   "source": [
    "## Составьте кортеж, содержащий натуральные числа, квадрат которых кратен 3, 4, но не кратен 8 и не превышает 12345."
   ]
  },
  {
   "cell_type": "code",
   "execution_count": 15,
   "id": "77cee909-7f8c-4dab-8be6-1908d8fdd125",
   "metadata": {},
   "outputs": [
    {
     "name": "stdout",
     "output_type": "stream",
     "text": [
      "[6, 18, 30, 42, 54, 66, 78, 90, 102]\n"
     ]
    }
   ],
   "source": [
    "t = ([x for x in range(112) if x ** 2 % 3 == 0 and x ** 2 % 4 == 0 and x ** 2 % 8 != 0 and x ** 2 < 12345])\n",
    "print(t)"
   ]
  },
  {
   "cell_type": "markdown",
   "id": "8a50f33b-d62d-4a8b-89cb-6308df615755",
   "metadata": {},
   "source": [
    "# Задача 2"
   ]
  },
  {
   "cell_type": "markdown",
   "id": "6cbd8ced-ce1f-46f0-ac7f-7811323c3e5b",
   "metadata": {},
   "source": [
    "## Напишите функцию, которая принимает на вход двумерный массив и строку и возвращает массив, повернутый на 90 градусов против часовой стрелки, если была передана строка «влево», и по часовой стрелке, если была передана строка «вправо»."
   ]
  },
  {
   "cell_type": "code",
   "execution_count": 21,
   "id": "2db0bc2c-bf76-4bee-855c-50671fef84ce",
   "metadata": {},
   "outputs": [
    {
     "name": "stdout",
     "output_type": "stream",
     "text": [
      "[[7, 4, 1], [8, 5, 2], [9, 6, 3]]\n"
     ]
    }
   ],
   "source": [
    "def rotate(matrix, direction):\n",
    "    new_matrix = [[matrix[i][j] for i in range(len(matrix))] for j in range(len(matrix[0]) - 1, -1, -1)]\n",
    "    return new_matrix if direction == \"left\" else rotate(rotate(new_matrix, \"left\"), \"left\")\n",
    "\n",
    "matrix = [[1, 2, 3], [4, 5, 6], [7, 8, 9]]\n",
    "rotate_matrix = rotate(matrix, \"right\")\n",
    "\n",
    "print(rotate_matrix)"
   ]
  },
  {
   "cell_type": "markdown",
   "id": "4f119bc5-211b-492d-932b-7dd1e4b55067",
   "metadata": {},
   "source": [
    "# Задача 3"
   ]
  },
  {
   "cell_type": "markdown",
   "id": "f43ef286-222b-4fa2-b30c-851c7c6e73d2",
   "metadata": {},
   "source": [
    "## Напишите функцию, которая принимает строку в качестве входных данных и возвращает словарь, содержащий количество вхождений каждого символа в строку."
   ]
  },
  {
   "cell_type": "code",
   "execution_count": 25,
   "id": "00015a5a-0af1-4b82-994d-62de4e8d215b",
   "metadata": {},
   "outputs": [
    {
     "name": "stdout",
     "output_type": "stream",
     "text": [
      "{'h': 1, 'e': 1, 'l': 3, 'o': 2, ',': 1, ' ': 1, 'w': 1, 'r': 1, 'd': 1, '!': 1}\n"
     ]
    }
   ],
   "source": [
    "def count_words(str):\n",
    "    return {list(str)[i] : str.count(list(str)[i]) for i in range(len(str))}\n",
    "\n",
    "str = \"hello, world!\"\n",
    "print(count_words(str))"
   ]
  },
  {
   "cell_type": "markdown",
   "id": "8e5a9823-f443-4146-9c5a-862c43933ebb",
   "metadata": {},
   "source": [
    "# Задача 4"
   ]
  },
  {
   "cell_type": "markdown",
   "id": "33e76858-a59c-4d42-90cb-f770a4226c68",
   "metadata": {},
   "source": [
    "## Вам необходимо спроектировать и внедрить систему управления книгами и пользователями в библиотеке. Система должна позволять управлять книгами (добавление, удаление, поиск по различным критериям) и пользователями (регистрация, удаление, поиск), а также отслеживать историю взаимодействий между ними (выдача и возврат книг). "
   ]
  },
  {
   "cell_type": "code",
   "execution_count": null,
   "id": "921505cf-9036-4bb9-b5d0-38cdc31599af",
   "metadata": {},
   "outputs": [],
   "source": []
  }
 ],
 "metadata": {
  "kernelspec": {
   "display_name": "Python [conda env:base] *",
   "language": "python",
   "name": "conda-base-py"
  },
  "language_info": {
   "codemirror_mode": {
    "name": "ipython",
    "version": 3
   },
   "file_extension": ".py",
   "mimetype": "text/x-python",
   "name": "python",
   "nbconvert_exporter": "python",
   "pygments_lexer": "ipython3",
   "version": "3.12.7"
  }
 },
 "nbformat": 4,
 "nbformat_minor": 5
}
