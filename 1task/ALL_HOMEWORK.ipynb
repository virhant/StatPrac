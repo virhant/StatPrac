{
 "cells": [
  {
   "cell_type": "markdown",
   "id": "4b13f6d9-3f76-43d2-b562-f1c27fd1fea3",
   "metadata": {},
   "source": [
    "# Задача 1"
   ]
  },
  {
   "cell_type": "markdown",
   "id": "e5816076-4b1f-48c2-8051-94e28a93b8d0",
   "metadata": {},
   "source": [
    "## Составьте кортеж, содержащий натуральные числа, квадрат которых кратен 3, 4, но не кратен 8 и не превышает 12345."
   ]
  },
  {
   "cell_type": "code",
   "execution_count": 15,
   "id": "77cee909-7f8c-4dab-8be6-1908d8fdd125",
   "metadata": {},
   "outputs": [
    {
     "name": "stdout",
     "output_type": "stream",
     "text": [
      "[6, 18, 30, 42, 54, 66, 78, 90, 102]\n"
     ]
    }
   ],
   "source": [
    "t = ([x for x in range(112) if x ** 2 % 3 == 0 and x ** 2 % 4 == 0 and x ** 2 % 8 != 0 and x ** 2 < 12345])\n",
    "print(t)"
   ]
  },
  {
   "cell_type": "markdown",
   "id": "8a50f33b-d62d-4a8b-89cb-6308df615755",
   "metadata": {},
   "source": [
    "# Задача 2"
   ]
  },
  {
   "cell_type": "markdown",
   "id": "6cbd8ced-ce1f-46f0-ac7f-7811323c3e5b",
   "metadata": {},
   "source": [
    "## Напишите функцию, которая принимает на вход двумерный массив и строку и возвращает массив, повернутый на 90 градусов против часовой стрелки, если была передана строка «влево», и по часовой стрелке, если была передана строка «вправо»."
   ]
  },
  {
   "cell_type": "code",
   "execution_count": 21,
   "id": "2db0bc2c-bf76-4bee-855c-50671fef84ce",
   "metadata": {},
   "outputs": [
    {
     "name": "stdout",
     "output_type": "stream",
     "text": [
      "[[7, 4, 1], [8, 5, 2], [9, 6, 3]]\n"
     ]
    }
   ],
   "source": [
    "def rotate(matrix, direction):\n",
    "    new_matrix = [[matrix[i][j] for i in range(len(matrix))] for j in range(len(matrix[0]) - 1, -1, -1)]\n",
    "    return new_matrix if direction == \"left\" else rotate(rotate(new_matrix, \"left\"), \"left\")\n",
    "\n",
    "matrix = [[1, 2, 3], [4, 5, 6], [7, 8, 9]]\n",
    "rotate_matrix = rotate(matrix, \"right\")\n",
    "\n",
    "print(rotate_matrix)"
   ]
  },
  {
   "cell_type": "markdown",
   "id": "4f119bc5-211b-492d-932b-7dd1e4b55067",
   "metadata": {},
   "source": [
    "# Задача 3"
   ]
  },
  {
   "cell_type": "markdown",
   "id": "f43ef286-222b-4fa2-b30c-851c7c6e73d2",
   "metadata": {},
   "source": [
    "## Напишите функцию, которая принимает строку в качестве входных данных и возвращает словарь, содержащий количество вхождений каждого символа в строку."
   ]
  },
  {
   "cell_type": "code",
   "execution_count": 25,
   "id": "00015a5a-0af1-4b82-994d-62de4e8d215b",
   "metadata": {},
   "outputs": [
    {
     "name": "stdout",
     "output_type": "stream",
     "text": [
      "{'h': 1, 'e': 1, 'l': 3, 'o': 2, ',': 1, ' ': 1, 'w': 1, 'r': 1, 'd': 1, '!': 1}\n"
     ]
    }
   ],
   "source": [
    "def count_words(str):\n",
    "    return {list(str)[i] : str.count(list(str)[i]) for i in range(len(str))}\n",
    "\n",
    "str = \"hello, world!\"\n",
    "print(count_words(str))"
   ]
  },
  {
   "cell_type": "markdown",
   "id": "8e5a9823-f443-4146-9c5a-862c43933ebb",
   "metadata": {},
   "source": [
    "# Задача 4"
   ]
  },
  {
   "cell_type": "markdown",
   "id": "33e76858-a59c-4d42-90cb-f770a4226c68",
   "metadata": {},
   "source": [
    "## Вам необходимо спроектировать и внедрить систему управления книгами и пользователями в библиотеке. Система должна позволять управлять книгами (добавление, удаление, поиск по различным критериям) и пользователями (регистрация, удаление, поиск), а также отслеживать историю взаимодействий между ними (выдача и возврат книг). "
   ]
  },
  {
   "cell_type": "code",
   "execution_count": 3,
   "id": "921505cf-9036-4bb9-b5d0-38cdc31599af",
   "metadata": {},
   "outputs": [
    {
     "name": "stdout",
     "output_type": "stream",
     "text": [
      "\n",
      "library was created\n",
      "\n",
      "\n",
      "Book mathematical analysis created\n",
      "\n",
      "\n",
      "ERROR! Book mathematical analysis didn't add in library\n",
      "\n",
      "mathematical analysis\n",
      "Demidovich\n",
      "1955\n",
      "19-5-5\n",
      "mathematical analysis by Demidovich. First publication 1955. ISBN is 19-5-5\n",
      "\n",
      "User Dmitry registered\n",
      "\n",
      "\n",
      "User Dmitry added in library\n",
      "\n",
      "\n",
      "Dmitry (1) took mathematical analysis (19-5-5)\n",
      "\n",
      "\n",
      "ERROR! User Dmitry must returns books\n",
      "\n",
      "\n",
      "Book mathematical analysis added in library\n",
      "\n",
      "\n",
      "ERROR! Book mathematical analysis didn't drop from library\n",
      "\n",
      "['mathematical analysis by Demidovich. First publication 1955. ISBN is 19-5-5']\n",
      "\n",
      "Dmitry (1) returned mathematical analysis (19-5-5)\n",
      "\n",
      "\n",
      "Book mathematical analysis droped from library\n",
      "\n",
      "\n",
      "User Dmitry deleted from library\n",
      "\n",
      "User Dmitry (1) added in library\n",
      "\n",
      "Book mathematical analysis (19-5-5) added in library\n",
      "\n",
      "Book mathematical analysis (19-5-5) droped from library\n",
      "User Dmitry (1) droped from library\n"
     ]
    }
   ],
   "source": [
    " class Book:\n",
    "    def __init__(self, title, author, year_public, isbn):\n",
    "        self.title = title\n",
    "        self.author = author\n",
    "        self.year_public = year_public\n",
    "        self.isbn = isbn\n",
    "        self.num_copy = 0\n",
    "        print(f\"\\nBook {title} created\\n\")\n",
    "        \n",
    "    def get_title(self):\n",
    "        return f\"{self.title}\"\n",
    "    \n",
    "    def get_author(self):\n",
    "        return f\"{self.author}\"\n",
    "    \n",
    "    def get_year(self):\n",
    "        return f\"{self.year_public}\"\n",
    "\n",
    "    def get_isbn(self):\n",
    "        return f\"{self.isbn}\"\n",
    "    \n",
    "    def display_info(self):\n",
    "        return f\"{self.title} by {self.author}. First publication {self.year_public}. ISBN is {self.isbn}\"\n",
    "    \n",
    "    def add_user(self, user):\n",
    "        if self.isbn not in user.borrow_book:\n",
    "            self.num_copy += 1 \n",
    "            print(f\"\\n{user.name} ({user.user_id}) took {self.title} ({self.isbn})\\n\")\n",
    "            return True\n",
    "        print(f\"\\n{user.name} ({user.user_id}) has taken {self.title} ({self.isbn}) already\\n\")\n",
    "        return False\n",
    "    \n",
    "    def remove_user(self, user):\n",
    "        if self.isbn in user.borrow_book:\n",
    "            self.num_copy -= 1 \n",
    "            print(f\"\\n{user.name} ({user.user_id}) returned {self.title} ({self.isbn})\\n\")\n",
    "            return True\n",
    "        print(f\"\\n{user.name} ({user.user_id}) hasn't taken {self.title} ({self.isbn})\\n\")\n",
    "        return False \n",
    "    \n",
    "\n",
    "class User:\n",
    "    def __init__(self, name, user_id):\n",
    "        self.name = name\n",
    "        self.user_id = user_id\n",
    "        self.borrow_book = set()\n",
    "        print(f\"\\nUser {self.name} registered\\n\")\n",
    "        \n",
    "    def take_book(self, book):\n",
    "        if book.add_user(self):\n",
    "            self.borrow_book.add(book.isbn)\n",
    "            return True\n",
    "        return False\n",
    "\n",
    "    def back_book(self, book):\n",
    "        if book.remove_user(self):\n",
    "            self.borrow_book.remove(book.isbn)\n",
    "            return True\n",
    "        return False\n",
    "    \n",
    "    def books_info(self, library):\n",
    "        return [book.display_info() for book in library.list_books if book.isbn in self.borrow_book]\n",
    "    \n",
    "class Library:\n",
    "    def __init__(self):\n",
    "        self.list_books = set()\n",
    "        self.list_users = set()\n",
    "        self.transaction_history = []\n",
    "        print(\"\\nlibrary was created\\n\")\n",
    "        \n",
    "    def register_book(self, book):\n",
    "        if book in self.list_books:\n",
    "            print(f\"\\nERROR! Book {book.title} has added in library already\\n\")\n",
    "            return False\n",
    "        if book.num_copy != 0:\n",
    "            self.list_books.add(book)\n",
    "            self.transaction_history.append(f\"\\nBook {book.title} ({book.isbn}) added in library\\n\")\n",
    "            print(f\"\\nBook {book.title} added in library\\n\")\n",
    "            return True \n",
    "        print(f\"\\nERROR! Book {book.title} didn't add in library\\n\")\n",
    "        return False\n",
    "    \n",
    "    def drop_book(self, book):\n",
    "        if book not in self.list_books:\n",
    "            print(f\"\\nERROR! Book {book.title} hasn't been registered\\n\")\n",
    "            return False\n",
    "        if book.num_copy == 0:\n",
    "            self.list_books.remove(book)\n",
    "            self.transaction_history.append(f\"Book {book.title} ({book.isbn}) droped from library\")\n",
    "            print(f\"\\nBook {book.title} droped from library\\n\")\n",
    "            return True\n",
    "        print(f\"\\nERROR! Book {book.title} didn't drop from library\\n\")\n",
    "        return False\n",
    "    \n",
    "    def register_user(self, user):\n",
    "        if user.user_id in self.list_users:\n",
    "            print(f\"\\nERROR! User {user.name} has added in library\\n\")\n",
    "            return False\n",
    "        self.list_users.add(user.user_id)\n",
    "        self.transaction_history.append(f\"User {user.name} ({user.user_id}) added in library\")\n",
    "        print(f\"\\nUser {user.name} added in library\\n\")\n",
    "        return True\n",
    "    \n",
    "    def drop_user(self, user):\n",
    "        if len(user.borrow_book) != 0:\n",
    "            print(f\"\\nERROR! User {user.name} must returns books\\n\")\n",
    "            return False\n",
    "        self.list_users.remove(user.user_id)\n",
    "        self.transaction_history.append(f\"User {user.name} ({user.user_id}) droped from library\")\n",
    "        print(f\"\\nUser {user.name} deleted from library\\n\")\n",
    "        return True\n",
    "    \n",
    "    def display_history(self):\n",
    "        for record in self.transaction_history:\n",
    "            print(record)\n",
    "            \n",
    "\n",
    "library = Library()\n",
    "\n",
    "book1 = Book(\"mathematical analysis\", \"Demidovich\", 1955, \"19-5-5\")\n",
    "library.register_book(book1) # Предполагается, что не будет добавлена, так как не была никому выдана\n",
    "\n",
    "print(book1.get_title())\n",
    "print(book1.get_author())\n",
    "print(book1.get_year())\n",
    "print(book1.get_isbn())\n",
    "print(book1.display_info())\n",
    "\n",
    "user1 = User(\"Dmitry\", 1)\n",
    "library.register_user(user1)\n",
    "\n",
    "user1.take_book(book1)\n",
    "library.drop_user(user1) # Предполагается, что не будет удален\n",
    "library.register_book(book1) # Предполагается, что будет добавлена, так как была выдана\n",
    "library.drop_book(book1) # Предполагается, что не будет удалена\n",
    "print(user1.books_info(library))\n",
    "user1.back_book(book1)\n",
    "library.drop_book(book1) # Предполагается, что будет удалена\n",
    "library.drop_user(user1) # Предполагается, что будет удален\n",
    "library.display_history()"
   ]
  },
  {
   "cell_type": "markdown",
   "id": "8ed4c56f-eaca-443b-a823-7615bfd97225",
   "metadata": {},
   "source": [
    "# Задача 5"
   ]
  },
  {
   "cell_type": "markdown",
   "id": "3a635f38-e1ec-46b1-9f0e-7798ff887b06",
   "metadata": {},
   "source": [
    "## Объясните, почему список b изменяется после выполнения следующего кода."
   ]
  },
  {
   "cell_type": "code",
   "execution_count": 8,
   "id": "dfbae9fa-bb78-40bf-a702-9994b09bd028",
   "metadata": {},
   "outputs": [
    {
     "name": "stdout",
     "output_type": "stream",
     "text": [
      "[4, 2, 3]\n"
     ]
    }
   ],
   "source": [
    "a = [1, 2, 3]\n",
    "b = a\n",
    "a[0] = 4\n",
    "print(b)"
   ]
  },
  {
   "cell_type": "markdown",
   "id": "8d42d1e8-7dca-4465-ba6b-9d546280d54d",
   "metadata": {},
   "source": [
    "Так как списки хранят ссылки на объекты, а не сами объекты, при изменении списка a также меняется список b"
   ]
  },
  {
   "cell_type": "markdown",
   "id": "7c4d0c71-e222-422c-b69a-3e2c708d06fa",
   "metadata": {},
   "source": [
    "# Задача 6"
   ]
  },
  {
   "cell_type": "markdown",
   "id": "466dfc7e-ecce-4a4e-a58b-af76629b29f5",
   "metadata": {},
   "source": [
    "## Задача 6\n",
    "\n",
    "### Исследование суммы обратных квадратов\n",
    "\n",
    "Рассмотрим две суммы:\n",
    "\n",
    "$$\n",
    "A = \\sum_{i=1}^{10000} \\frac{1}{i^2}, \\quad B = \\sum_{i=10000}^{1} \\frac{1}{i^2}\n",
    "$$\n",
    "\n",
    "Посчитаем их значения, сравним и проанализируем результат.\n",
    "\n",
    "### **Вопросы для анализа:**\n",
    "1. Как соотносятся \\( A \\) и \\( B \\)?\n",
    "2. Почему получается такой результат?\n",
    "3. Как лучше всего вычислить сумму $$\\sum_{i=1}^{10000} \\frac{1}{i^2}$$\n",
    "\n"
   ]
  },
  {
   "cell_type": "markdown",
   "id": "3bd8993f-e279-4b6c-802c-5c83e4694457",
   "metadata": {},
   "source": [
    "При сложении по возрастанию ошибки накапливаются меньше, так как к маленьким числам прибавляется маленькие числа.\n",
    "При сложении по убыванию к большому числу будут прибавляться маленькие числа, что в свою очередь уменьшает точность вычислений\n",
    "из-за специфики округления. Таким образом А будет лучше отражать результат. При этом A больше, чем B"
   ]
  }
 ],
 "metadata": {
  "kernelspec": {
   "display_name": "Python [conda env:base] *",
   "language": "python",
   "name": "conda-base-py"
  },
  "language_info": {
   "codemirror_mode": {
    "name": "ipython",
    "version": 3
   },
   "file_extension": ".py",
   "mimetype": "text/x-python",
   "name": "python",
   "nbconvert_exporter": "python",
   "pygments_lexer": "ipython3",
   "version": "3.12.7"
  }
 },
 "nbformat": 4,
 "nbformat_minor": 5
}
